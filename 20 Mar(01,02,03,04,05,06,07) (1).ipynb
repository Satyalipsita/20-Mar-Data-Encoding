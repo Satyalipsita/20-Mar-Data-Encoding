{
 "cells": [
  {
   "cell_type": "code",
   "execution_count": null,
   "id": "249ce4a7-15d5-4717-b6bd-fb77b684e206",
   "metadata": {},
   "outputs": [],
   "source": [
    "Q-1:\n",
    "    Data encoding is a critical step in preparing data for use in machine learning models. \n",
    "    It involves transforming raw data into a \n",
    "    format that is suitable for processing by a machine learning algorithm.\n",
    "    \n",
    "    The usefull ness is that it assigns the catagorical data into numerical whch can be \n",
    "    processed by the model as model cant process categorical data.\n",
    "    "
   ]
  },
  {
   "cell_type": "code",
   "execution_count": null,
   "id": "2b6f6d94-8e9c-4868-945a-85962992d57f",
   "metadata": {},
   "outputs": [],
   "source": [
    "Q-2:\n",
    "    Nominal encoding is a type of encoding used for categorical variables that do not have any \n",
    "    inherent order or numerical value associated with them. In nominal encoding, \n",
    "    each category is assigned a unique integer value, where the integers are not\n",
    "    meant to represent any particular order or magnitude.\n",
    "\n",
    "For example, let's consider a dataset containing information about different \n",
    "types of fruits. One of the categorical variables in this dataset is \"fruit color,\" \n",
    "which can take on values such as \"red,\" \"green,\" and \"yellow.\" Since there is \n",
    "no inherent order or numerical value associated with these colors, nominal \n",
    "encoding can be used to represent them.\n",
    "\n",
    "Using nominal encoding, the values of \"red,\" \"green,\" and \"yellow\" can be \n",
    "assigned unique integer values such as 1, 2, and 3, respectively. \n",
    "These integer values can then be used as input to a machine learning\n",
    "algorithm that requires numerical input."
   ]
  },
  {
   "cell_type": "code",
   "execution_count": null,
   "id": "9de1c6b0-102e-46ca-8de5-c68ce91cec86",
   "metadata": {},
   "outputs": [],
   "source": [
    "Q-3:\n",
    "    Nominal encoding is preferred over one-hot encoding in certain cases when dealing\n",
    "    with categorical variables in machine learning models. Here are a few scenarios \n",
    "    where nominal encoding may be preferred:\n",
    "\n",
    "1:High Cardinality: When dealing with categorical variables that have a large \n",
    "number of categories (i.e., high cardinality), one-hot encoding can result in \n",
    "a large number of features. This can make the dataset very large and difficult \n",
    "to manage. In such cases, nominal encoding can be a more efficient way of representing the\n",
    "categorical variable, as it requires only a single integer value to represent each category.\n",
    "2:No Natural Order: When dealing with categorical variables that do not have any inherent order\n",
    "or ranking, nominal encoding may be preferred over one-hot encoding. Nominal encoding assigns \n",
    "a unique integer value to each category, which can be used to represent the category in a machine \n",
    "learning model. One-hot encoding, on the other hand, creates a binary vector for each category, which assumes an order or ranking between the categories."
   ]
  },
  {
   "cell_type": "code",
   "execution_count": null,
   "id": "62fd1e54-03ef-40ce-8641-7472f66df3c8",
   "metadata": {},
   "outputs": [],
   "source": [
    "Q-4:If the dataset has 5 unique categories in a categorical feature,\n",
    "there are several encoding techniques that can be used, including:\n",
    "\n",
    "Nominal Encoding: If the categorical feature does not have any\n",
    "inherent order or numerical value associated with it, nominal \n",
    "encoding can be used to assign a unique integer value to each category. \n",
    "This technique can be useful when dealing with high cardinality categorical variables.\n",
    "\n",
    "One-Hot Encoding: If the categorical feature has a small number of unique \n",
    "categories (such as 5), one-hot encoding can be used to represent each \n",
    "category as a binary vector. This technique can be useful for decision \n",
    "tree-based algorithms or logistic regression models.\n",
    "\n",
    "Label Encoding: If the categorical feature has a small number of unique \n",
    "categories and has an inherent order or ranking, label encoding can be \n",
    "used to convert each category to a numerical value. This technique can \n",
    "be useful for regression models or support vector machines.\n",
    "\n",
    "\n",
    "    "
   ]
  },
  {
   "cell_type": "code",
   "execution_count": null,
   "id": "2735b6fe-4568-42d0-95da-7165ce009f92",
   "metadata": {},
   "outputs": [],
   "source": [
    "Q-5:\n",
    "    If we have a dataset with 1000 rows and 5 columns, \n",
    "    and 2 of the columns are categorical variables, \n",
    "    nominal encoding will replace each of the categorical\n",
    "    columns with a new column of integers representing the \n",
    "    categories. The number of new columns added will depend \n",
    "    on the number of unique categories in each of the categorical columns.\n",
    "\n",
    "Assuming that the two categorical columns have n1 and n2\n",
    "unique categories, respectively, nominal encoding will add \n",
    "n1 + n2 new columns to the dataset. Each of the original \n",
    "categorical columns will be replaced by a new column of integers representing the categories.\n",
    "\n",
    "\n",
    "For example, if the first categorical column has 4 unique categories \n",
    "and the second categorical column has 5 unique categories, nominal \n",
    "encoding will add 9 new columns to the dataset (4 columns for the \n",
    "first categorical variable and 5 columns for the second categorical variable). \n",
    "The resulting dataset will have 1000 rows and 8 columns (3 original columns \n",
    "plus 5 new columns added by nominal encoding)."
   ]
  },
  {
   "cell_type": "code",
   "execution_count": null,
   "id": "c9b4c9cb-a0c4-4fb9-9f92-8aef8da91647",
   "metadata": {},
   "outputs": [],
   "source": [
    "Q-6:Her the animal data set is having 4 catagorical featurews 1-type,2-species,3-diet,4 Habitat\n",
    "\n",
    "Nominal Encoding: If the categorical feature does not have any inherent order or \n",
    "numerical value associated with it, nominal encoding can be used to assign a unique \n",
    "integer value to each category. This technique can be useful when dealing with high \n",
    "cardinality categorical variables.\n",
    "\n",
    "One-Hot Encoding: If the categorical feature has a small number of unique categories\n",
    "(such as 5), one-hot encoding can be used to represent each category as a binary vector. \n",
    "This technique can be useful for decision tree-based algorithms or logistic regression models.\n",
    "\n",
    "Label Encoding: If the categorical feature has a small number of unique categories and \n",
    "has an inherent order or ranking, label encoding can be used to convert each category\n",
    "to a numerical value. This technique can be useful for regression models or support vector machines.\n",
    "\n",
    "Ultimately, the choice between these encoding techniques depends on the specific \n",
    "requirements of the machine learning model and the nature of the data being used. \n",
    "It is important to experiment with different encoding techniques and compare their \n",
    "performance to choose the most appropriate one for the given dataset."
   ]
  },
  {
   "cell_type": "code",
   "execution_count": null,
   "id": "a0923001-202c-4f6a-8b1c-ce15727d73e7",
   "metadata": {},
   "outputs": [],
   "source": [
    "Q-7:\n",
    "    One hot encoding can be done to assign the catagorical features to numerical\n",
    "    for machine learning model preparation.\n",
    "    Below are thge steps of one hot encoding technique\n",
    "    \n",
    "1- Identify the categorical feature in your dataset that needs to be encoded.\n",
    "\n",
    "2-Determine the number of unique categories in the categorical feature. \n",
    "This will help you decide how many new columns will be added to the dataset during one-hot encoding.\n",
    "\n",
    "3-Create a binary column for each unique category in the categorical feature. \n",
    "The value of each binary column will be 1 if the observation belongs to that category, and 0 otherwise.\n",
    "\n",
    "4-Replace the original categorical feature with the new binary columns created in step 3.\n",
    "\n",
    "If desired, drop one of the binary columns to avoid multicollinearity. \n",
    "This step is not always necessary, but it can be useful\n",
    "for linear regression models and some other algorithms.\n",
    "\n"
   ]
  }
 ],
 "metadata": {
  "kernelspec": {
   "display_name": "Python 3 (ipykernel)",
   "language": "python",
   "name": "python3"
  },
  "language_info": {
   "codemirror_mode": {
    "name": "ipython",
    "version": 3
   },
   "file_extension": ".py",
   "mimetype": "text/x-python",
   "name": "python",
   "nbconvert_exporter": "python",
   "pygments_lexer": "ipython3",
   "version": "3.10.8"
  }
 },
 "nbformat": 4,
 "nbformat_minor": 5
}
